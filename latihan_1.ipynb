{
  "nbformat": 4,
  "nbformat_minor": 0,
  "metadata": {
    "colab": {
      "name": "latihan 1.ipynb",
      "provenance": [],
      "collapsed_sections": [],
      "authorship_tag": "ABX9TyMLX7v5fO4Hz80KjVzyflHw",
      "include_colab_link": true
    },
    "kernelspec": {
      "name": "python3",
      "display_name": "Python 3"
    },
    "language_info": {
      "name": "python"
    }
  },
  "cells": [
    {
      "cell_type": "markdown",
      "metadata": {
        "id": "view-in-github",
        "colab_type": "text"
      },
      "source": [
        "<a href=\"https://colab.research.google.com/github/fariz475/AppliedDataAnalysis/blob/master/latihan_1.ipynb\" target=\"_parent\"><img src=\"https://colab.research.google.com/assets/colab-badge.svg\" alt=\"Open In Colab\"/></a>"
      ]
    },
    {
      "cell_type": "code",
      "execution_count": null,
      "metadata": {
        "colab": {
          "base_uri": "https://localhost:8080/"
        },
        "id": "ZHoarHsIb-WO",
        "outputId": "5faf59e0-dc23-4340-a31f-e1abefb5c8a9"
      },
      "outputs": [
        {
          "output_type": "stream",
          "name": "stdout",
          "text": [
            "150\n"
          ]
        }
      ],
      "source": [
        "dataA = 10\n",
        "dataB = 15\n",
        "\n",
        "print(dataA * dataB)"
      ]
    },
    {
      "cell_type": "markdown",
      "source": [
        ""
      ],
      "metadata": {
        "id": "S5gxP9IEgD95"
      }
    },
    {
      "cell_type": "code",
      "source": [
        "data_integer = 11\n",
        "print(\"data : \", data_integer)\n",
        "print(\"- bertipe : \", type(data_integer))"
      ],
      "metadata": {
        "colab": {
          "base_uri": "https://localhost:8080/"
        },
        "id": "2pa6Uxi3catu",
        "outputId": "92b510ea-d111-4a3b-a38b-4d6493e0fefc"
      },
      "execution_count": null,
      "outputs": [
        {
          "output_type": "stream",
          "name": "stdout",
          "text": [
            "data :  11\n",
            "- bertipe :  <class 'int'>\n"
          ]
        }
      ]
    },
    {
      "cell_type": "code",
      "source": [
        "data_bool = False\n",
        "print(\"data : \", data_bool)\n",
        "print(\"- bertipe : \", type(data_bool))"
      ],
      "metadata": {
        "colab": {
          "base_uri": "https://localhost:8080/"
        },
        "id": "2dthNiCndRw7",
        "outputId": "ae4f2489-32f0-45eb-c5a6-5b2bbcb26ace"
      },
      "execution_count": null,
      "outputs": [
        {
          "output_type": "stream",
          "name": "stdout",
          "text": [
            "data :  False\n",
            "- bertipe :  <class 'bool'>\n"
          ]
        }
      ]
    },
    {
      "cell_type": "code",
      "source": [
        "data_float = 12.1\n",
        "print(\"data : \", data_float)\n",
        "print(\"- bertipe : \", type(data_float))"
      ],
      "metadata": {
        "colab": {
          "base_uri": "https://localhost:8080/"
        },
        "id": "q3oBAZCodsqO",
        "outputId": "3f7541c3-c933-42d4-d24e-60903fa66598"
      },
      "execution_count": null,
      "outputs": [
        {
          "output_type": "stream",
          "name": "stdout",
          "text": [
            "data :  12.1\n",
            "- bertipe :  <class 'float'>\n"
          ]
        }
      ]
    },
    {
      "cell_type": "code",
      "source": [
        "#casting\n",
        "print('integer')\n",
        "data_int = 8\n",
        "print(\"data = \", data_int), 'type : ', type(data_int)"
      ],
      "metadata": {
        "id": "w2r1JEz4gkhP",
        "colab": {
          "base_uri": "https://localhost:8080/"
        },
        "outputId": "479307b0-26b6-47e7-f037-eea08d3321e0"
      },
      "execution_count": 3,
      "outputs": [
        {
          "output_type": "stream",
          "name": "stdout",
          "text": [
            "integer\n",
            "data =  8\n"
          ]
        },
        {
          "output_type": "execute_result",
          "data": {
            "text/plain": [
              "(None, 'type : ', int)"
            ]
          },
          "metadata": {},
          "execution_count": 3
        }
      ]
    },
    {
      "cell_type": "code",
      "source": [
        "data_flo = float(data_int)\n",
        "data_string = str(data_int)\n",
        "data_bool = bool(data_int)\n",
        "\n",
        "print(\"data = \", data_int, \"Type\", type(data_flo))\n",
        "print(\"data = \", data_string, \"Type\", type(data_string))\n"
      ],
      "metadata": {
        "colab": {
          "base_uri": "https://localhost:8080/"
        },
        "id": "rHhz9FbnVtnx",
        "outputId": "65e6142c-fe24-4e60-fd3c-036a8c831830"
      },
      "execution_count": 5,
      "outputs": [
        {
          "output_type": "stream",
          "name": "stdout",
          "text": [
            "data =  8 Type <class 'float'>\n",
            "data =  8 Type <class 'str'>\n"
          ]
        }
      ]
    },
    {
      "cell_type": "code",
      "source": [
        "data_bool1 = True\n",
        "data_bool2 = False\n",
        "data_bool3 = True\n",
        "\n",
        "print(data_bool1)\n",
        "print(data_bool2)\n",
        "print(data_bool3)\n",
        "\n"
      ],
      "metadata": {
        "colab": {
          "base_uri": "https://localhost:8080/"
        },
        "id": "hk30mcEQa5I2",
        "outputId": "39abc14f-df4c-4495-8634-c451adbaef47"
      },
      "execution_count": 6,
      "outputs": [
        {
          "output_type": "stream",
          "name": "stdout",
          "text": [
            "True\n",
            "False\n",
            "True\n"
          ]
        }
      ]
    },
    {
      "cell_type": "code",
      "source": [
        "#kondisi if\n",
        "\n",
        "nama = input(\"Masukkan Nama : \")\n",
        "\n",
        "if nama == \"bono\":\n",
        "  print(\" Selamat datang bono\")\n",
        "\n",
        "else:\n",
        "  print(\"Kamu bukan bono\")"
      ],
      "metadata": {
        "colab": {
          "base_uri": "https://localhost:8080/"
        },
        "id": "muqNKL_ohE0d",
        "outputId": "57db9272-19ed-4600-b18a-912650bfac6d"
      },
      "execution_count": 10,
      "outputs": [
        {
          "output_type": "stream",
          "name": "stdout",
          "text": [
            "Masukkan Nama : bono\n",
            " Selamat datang bono\n"
          ]
        }
      ]
    },
    {
      "cell_type": "code",
      "source": [
        ""
      ],
      "metadata": {
        "id": "xKxNTFXqhirH"
      },
      "execution_count": null,
      "outputs": []
    }
  ]
}